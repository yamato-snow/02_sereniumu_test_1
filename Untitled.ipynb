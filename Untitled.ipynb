{
 "cells": [
  {
   "cell_type": "code",
   "execution_count": 11,
   "id": "0c36b06e-40ec-4142-8610-9365e91b7cba",
   "metadata": {},
   "outputs": [],
   "source": [
    "import os\n",
    "import signal\n",
    "from selenium import webdriver\n",
    "\n",
    "# Mac用のパス例（ドライバーの実際のパスに置き換えてください）\n",
    "\n",
    "driver = webdriver.Chrome()"
   ]
  },
  {
   "cell_type": "code",
   "execution_count": 13,
   "id": "00986e95-0c29-4dd8-b1be-2ac0368605f4",
   "metadata": {},
   "outputs": [],
   "source": [
    "import time                            # スリープを使うために必要\n",
    "import os\n",
    "import signal\n",
    "from selenium import webdriver         # Webブラウザを自動操作する（python -m pip install selenium)\n",
    " \n",
    "driver = webdriver.Chrome()            # Chromeを準備\n",
    "\n",
    "try:\n",
    "    driver.get('https://www.google.com/')  # Googleを開く\n",
    "    time.sleep(5)                          # 5秒間待機\n",
    "finally:\n",
    "    os.kill(driver.service.process.pid,signal.SIGTERM)"
   ]
  },
  {
   "cell_type": "code",
   "execution_count": null,
   "id": "371f5744-c3cd-400b-8224-d066271c89be",
   "metadata": {},
   "outputs": [],
   "source": []
  }
 ],
 "metadata": {
  "kernelspec": {
   "display_name": "Python 3 (ipykernel)",
   "language": "python",
   "name": "python3"
  },
  "language_info": {
   "codemirror_mode": {
    "name": "ipython",
    "version": 3
   },
   "file_extension": ".py",
   "mimetype": "text/x-python",
   "name": "python",
   "nbconvert_exporter": "python",
   "pygments_lexer": "ipython3",
   "version": "3.11.5"
  }
 },
 "nbformat": 4,
 "nbformat_minor": 5
}
